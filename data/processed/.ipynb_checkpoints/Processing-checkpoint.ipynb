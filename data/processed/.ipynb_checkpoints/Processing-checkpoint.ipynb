{
 "cells": [
  {
   "cell_type": "code",
   "execution_count": 1,
   "id": "classical-architect",
   "metadata": {},
   "outputs": [],
   "source": [
    "import pandas as pd\n",
    "from scripts.load_script import *"
   ]
  },
  {
   "cell_type": "code",
   "execution_count": 2,
   "id": "instructional-fiction",
   "metadata": {},
   "outputs": [],
   "source": [
    "df = process_data('../raw/adult.data')"
   ]
  },
  {
   "cell_type": "code",
   "execution_count": 3,
   "id": "mediterranean-passion",
   "metadata": {},
   "outputs": [],
   "source": [
    "find_and_replace(df, 'Workclass', 'State-gov|Federal-gov|Local-gov', 'Government')\n",
    "find_and_replace(df, 'Workclass', 'Never-worked|Without-pay|Other', '?')\n",
    "find_and_replace(df, 'Workclass', 'Self-emp-not-inc|Self-emp-inc', 'Self-employed')\n",
    "find_and_replace(df, 'Workclass', '?', 'Other')"
   ]
  },
  {
   "cell_type": "code",
   "execution_count": 4,
   "id": "concerned-anthropology",
   "metadata": {},
   "outputs": [],
   "source": [
    "find_and_replace(df, 'Education', '11th|9th|7th-8th|5th-6th|10th|1st-4th|12th|Preschool|Replaced', 'Didnt-grad-HS')\n",
    "find_and_replace(df, 'Education', 'Some-college', 'Bachelors')"
   ]
  },
  {
   "cell_type": "code",
   "execution_count": 5,
   "id": "polish-vocabulary",
   "metadata": {},
   "outputs": [],
   "source": [
    "find_and_replace(df, 'Marital Status', 'Married-spouse-absent', 'Married-civ-spouse')\n",
    "find_and_replace(df, 'Marital Status', 'Married-AF-spouse', 'Married-civ-spouse')\n",
    "find_and_replace(df, 'Marital Status', 'Married-civ-spouse', 'Married')"
   ]
  },
  {
   "cell_type": "code",
   "execution_count": 6,
   "id": "mediterranean-azerbaijan",
   "metadata": {},
   "outputs": [],
   "source": [
    "find_and_replace(df, 'Occupation', '?', 'Other')\n",
    "find_and_replace(df, 'Occupation', 'Other-service', 'Other')\n",
    "find_and_replace(df, 'Occupation', 'Armed-Forces', 'Protective-serv')"
   ]
  },
  {
   "cell_type": "code",
   "execution_count": 7,
   "id": "exclusive-privacy",
   "metadata": {},
   "outputs": [],
   "source": [
    "df.to_csv('adult_processed.csv', index=False)"
   ]
  },
  {
   "cell_type": "code",
   "execution_count": null,
   "id": "administrative-hartford",
   "metadata": {},
   "outputs": [],
   "source": []
  }
 ],
 "metadata": {
  "kernelspec": {
   "display_name": "Python 3",
   "language": "python",
   "name": "python3"
  },
  "language_info": {
   "codemirror_mode": {
    "name": "ipython",
    "version": 3
   },
   "file_extension": ".py",
   "mimetype": "text/x-python",
   "name": "python",
   "nbconvert_exporter": "python",
   "pygments_lexer": "ipython3",
   "version": "3.9.1"
  }
 },
 "nbformat": 4,
 "nbformat_minor": 5
}
